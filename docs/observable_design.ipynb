{
 "cells": [
  {
   "cell_type": "markdown",
   "metadata": {},
   "source": [
    "# Observable-based `optlang` Design Concept"
   ]
  },
  {
   "cell_type": "code",
   "execution_count": 1,
   "metadata": {},
   "outputs": [],
   "source": [
    "import logging"
   ]
  },
  {
   "cell_type": "code",
   "execution_count": 2,
   "metadata": {},
   "outputs": [],
   "source": [
    "logging.basicConfig(level=\"DEBUG\")"
   ]
  },
  {
   "cell_type": "code",
   "execution_count": 3,
   "metadata": {},
   "outputs": [],
   "source": [
    "from optlang import Constraint, Objective, Variable, Model, SymbolicParameter, GLPKModel"
   ]
  },
  {
   "cell_type": "code",
   "execution_count": 4,
   "metadata": {},
   "outputs": [],
   "source": [
    "mu = SymbolicParameter(\"mu\")"
   ]
  },
  {
   "cell_type": "code",
   "execution_count": 5,
   "metadata": {},
   "outputs": [
    {
     "name": "stderr",
     "output_type": "stream",
     "text": [
      "DEBUG:optlang.interface.mixin.bounds_mixin:Validating that 0 <= None.\n",
      "DEBUG:optlang.interface.mixin.bounds_mixin:Validating that 0 <= None.\n",
      "DEBUG:optlang.interface.mixin.bounds_mixin:Validating that 0 <= None.\n"
     ]
    }
   ],
   "source": [
    "x1 = Variable('x1', lb=mu)\n",
    "x2 = Variable('x2', lb=mu)\n",
    "x3 = Variable('x3', lb=2 * mu)"
   ]
  },
  {
   "cell_type": "code",
   "execution_count": 6,
   "metadata": {},
   "outputs": [
    {
     "data": {
      "text/plain": [
       "<SymbolicParameter 'mu = 0'>"
      ]
     },
     "execution_count": 6,
     "metadata": {},
     "output_type": "execute_result"
    }
   ],
   "source": [
    "x1.lb"
   ]
  },
  {
   "cell_type": "code",
   "execution_count": 7,
   "metadata": {},
   "outputs": [
    {
     "data": {
      "text/plain": [
       "2*_mu"
      ]
     },
     "execution_count": 7,
     "metadata": {},
     "output_type": "execute_result"
    }
   ],
   "source": [
    "x3.lb"
   ]
  },
  {
   "cell_type": "code",
   "execution_count": 8,
   "metadata": {},
   "outputs": [
    {
     "name": "stderr",
     "output_type": "stream",
     "text": [
      "DEBUG:optlang.interface.mixin.bounds_mixin:Validating that None <= 100.\n",
      "DEBUG:optlang.interface.mixin.bounds_mixin:Validating that None <= 600.\n",
      "DEBUG:optlang.interface.mixin.bounds_mixin:Validating that None <= 300.\n"
     ]
    }
   ],
   "source": [
    "# A constraint is constructed from an expression of variables and a lower and/or upper bound (lb and ub).\n",
    "c1 = Constraint(x1 + x2 + x3, ub=mu + 100)\n",
    "c2 = Constraint(10 * x1 + 4 * x2 + 5 * x3, ub=mu + 600)\n",
    "c3 = Constraint(2 * x1 + 2 * x2 + 6 * x3, ub=mu + 300)"
   ]
  },
  {
   "cell_type": "code",
   "execution_count": 9,
   "metadata": {},
   "outputs": [
    {
     "data": {
      "text/plain": [
       "_mu + 100"
      ]
     },
     "execution_count": 9,
     "metadata": {},
     "output_type": "execute_result"
    }
   ],
   "source": [
    "c1.ub"
   ]
  },
  {
   "cell_type": "code",
   "execution_count": 10,
   "metadata": {},
   "outputs": [
    {
     "data": {
      "text/plain": [
       "_mu + 600"
      ]
     },
     "execution_count": 10,
     "metadata": {},
     "output_type": "execute_result"
    }
   ],
   "source": [
    "c2.ub"
   ]
  },
  {
   "cell_type": "code",
   "execution_count": 11,
   "metadata": {},
   "outputs": [
    {
     "data": {
      "text/plain": [
       "_mu + 300"
      ]
     },
     "execution_count": 11,
     "metadata": {},
     "output_type": "execute_result"
    }
   ],
   "source": [
    "c3.ub"
   ]
  },
  {
   "cell_type": "code",
   "execution_count": 12,
   "metadata": {},
   "outputs": [],
   "source": [
    "rho = SymbolicParameter(\"rho\", value=1)"
   ]
  },
  {
   "cell_type": "code",
   "execution_count": 13,
   "metadata": {},
   "outputs": [],
   "source": [
    "# An objective can be formulated\n",
    "obj = Objective(10 * rho * x1 + 6 * rho * x2 + 4 * rho * x3, direction='max')"
   ]
  },
  {
   "cell_type": "code",
   "execution_count": 14,
   "metadata": {},
   "outputs": [
    {
     "name": "stderr",
     "output_type": "stream",
     "text": [
      "DEBUG:optlang.interface.change_tracker.base_change_tracker:Tracked addition of '8a83215f-21e2-4535-b360-084b258d3281'.\n",
      "DEBUG:optlang.interface.change_tracker.base_change_tracker:Tracked addition of 'fe15689f-aa5b-4df4-ae0b-b71aebae4b6e'.\n",
      "DEBUG:optlang.interface.change_tracker.base_change_tracker:Tracked addition of '1f14d799-3d0b-4a70-8d91-958edfbe8513'.\n"
     ]
    }
   ],
   "source": [
    "# Variables, constraints and objective are combined in a Model object, which can subsequently be optimized.\n",
    "model = Model(name='Simple model')\n",
    "model.objective = obj\n",
    "model.add([c1, c2, c3])"
   ]
  },
  {
   "cell_type": "code",
   "execution_count": 15,
   "metadata": {},
   "outputs": [
    {
     "name": "stderr",
     "output_type": "stream",
     "text": [
      "DEBUG:optlang.interface.mixin.bounds_mixin:Validating that -100 <= None.\n",
      "DEBUG:optlang.interface.mixin.bounds_mixin:Validating that -100 <= None.\n",
      "DEBUG:optlang.interface.mixin.bounds_mixin:Validating that -200 <= None.\n",
      "DEBUG:optlang.interface.mixin.bounds_mixin:Validating that None <= 0.\n",
      "DEBUG:optlang.interface.change_tracker.bounds_change_tracker:Tracked bounds update to None, 0.\n",
      "DEBUG:optlang.interface.mixin.bounds_mixin:Validating that None <= 500.\n",
      "DEBUG:optlang.interface.change_tracker.bounds_change_tracker:Tracked bounds update to None, 500.\n",
      "DEBUG:optlang.interface.mixin.bounds_mixin:Validating that None <= 200.\n",
      "DEBUG:optlang.interface.change_tracker.bounds_change_tracker:Tracked bounds update to None, 200.\n"
     ]
    }
   ],
   "source": [
    "mu.value = -100"
   ]
  },
  {
   "cell_type": "code",
   "execution_count": 16,
   "metadata": {},
   "outputs": [
    {
     "name": "stderr",
     "output_type": "stream",
     "text": [
      "DEBUG:optlang.interface.change_tracker.expression_change_tracker:Tracked expression update to '20.0*_x1 + 12.0*_x2 + 8.0*_x3'.\n"
     ]
    }
   ],
   "source": [
    "rho.value = 2"
   ]
  },
  {
   "cell_type": "code",
   "execution_count": 17,
   "metadata": {},
   "outputs": [
    {
     "name": "stderr",
     "output_type": "stream",
     "text": [
      "DEBUG:optlang.interface.change_tracker.expression_change_tracker:Tracked expression update to '10.0*_x1 + 6.0*_x2 + 4.0*_x3'.\n"
     ]
    }
   ],
   "source": [
    "rho.value = 1"
   ]
  },
  {
   "cell_type": "code",
   "execution_count": 18,
   "metadata": {},
   "outputs": [
    {
     "data": {
      "text/plain": [
       "(-oo < _mu) & (_mu < oo)"
      ]
     },
     "execution_count": 18,
     "metadata": {},
     "output_type": "execute_result"
    }
   ],
   "source": [
    "mu.compute_bounds()"
   ]
  },
  {
   "cell_type": "code",
   "execution_count": 19,
   "metadata": {},
   "outputs": [
    {
     "ename": "ValueError",
     "evalue": "The symbolic parameter 'rho' is not set on any bounds.",
     "output_type": "error",
     "traceback": [
      "\u001b[0;31m---------------------------------------------------------------------------\u001b[0m",
      "\u001b[0;31mValueError\u001b[0m                                Traceback (most recent call last)",
      "\u001b[0;32m<ipython-input-19-4041a9346d21>\u001b[0m in \u001b[0;36m<module>\u001b[0;34m()\u001b[0m\n\u001b[0;32m----> 1\u001b[0;31m \u001b[0mrho\u001b[0m\u001b[0;34m.\u001b[0m\u001b[0mcompute_bounds\u001b[0m\u001b[0;34m(\u001b[0m\u001b[0;34m)\u001b[0m\u001b[0;34m\u001b[0m\u001b[0m\n\u001b[0m",
      "\u001b[0;32m~/Codebase/Biosustain/optlang/src/optlang/interface/symbolic_parameter.py\u001b[0m in \u001b[0;36mcompute_bounds\u001b[0;34m(self, substitute)\u001b[0m\n\u001b[1;32m    141\u001b[0m             raise ValueError(\n\u001b[1;32m    142\u001b[0m                 \u001b[0;34m\"The symbolic parameter '{}' is not set on any bounds.\"\u001b[0m\u001b[0;34m\u001b[0m\u001b[0m\n\u001b[0;32m--> 143\u001b[0;31m                 \"\".format(self.name))\n\u001b[0m\u001b[1;32m    144\u001b[0m         \u001b[0;31m# Reducing inequalities is currently not possible in symengine. Thus\u001b[0m\u001b[0;34m\u001b[0m\u001b[0;34m\u001b[0m\u001b[0m\n\u001b[1;32m    145\u001b[0m         \u001b[0;31m# we replace them with `sympy.Symbol`s here.\u001b[0m\u001b[0;34m\u001b[0m\u001b[0;34m\u001b[0m\u001b[0m\n",
      "\u001b[0;31mValueError\u001b[0m: The symbolic parameter 'rho' is not set on any bounds."
     ]
    }
   ],
   "source": [
    "rho.compute_bounds()"
   ]
  }
 ],
 "metadata": {
  "kernelspec": {
   "display_name": "Python 3",
   "language": "python",
   "name": "python3"
  },
  "language_info": {
   "codemirror_mode": {
    "name": "ipython",
    "version": 3
   },
   "file_extension": ".py",
   "mimetype": "text/x-python",
   "name": "python",
   "nbconvert_exporter": "python",
   "pygments_lexer": "ipython3",
   "version": "3.6.6"
  },
  "toc": {
   "base_numbering": 1,
   "nav_menu": {},
   "number_sections": false,
   "sideBar": true,
   "skip_h1_title": false,
   "title_cell": "Table of Contents",
   "title_sidebar": "Table of Contents",
   "toc_cell": false,
   "toc_position": {},
   "toc_section_display": "block",
   "toc_window_display": true
  }
 },
 "nbformat": 4,
 "nbformat_minor": 2
}
